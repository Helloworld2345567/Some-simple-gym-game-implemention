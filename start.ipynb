{
 "cells": [
  {
   "cell_type": "code",
   "execution_count": null,
   "id": "75f5e67f-a8b2-4a6d-b357-3ce975d1a49f",
   "metadata": {},
   "outputs": [
    {
     "name": "stdout",
     "output_type": "stream",
     "text": [
      "A.L.E: Arcade Learning Environment (version 0.8.1+53f58b7)\n",
      "[Powered by Stella]\n",
      "/usr/local/python3/lib/python3.10/site-packages/gym/utils/passive_env_checker.py:233: DeprecationWarning: `np.bool8` is a deprecated alias for `np.bool_`.  (Deprecated NumPy 1.24)\n",
      "  if not isinstance(terminated, (bool, np.bool8)):\n",
      "Episode 100, step 1115, Reward -143.110, Average Reward -84.568\n",
      "Episode 200, step 1102, Reward -138.100, Average Reward -89.959\n",
      "Episode 300, step 2317, Reward 247.970, Average Reward -6.11852\n",
      "Episode 400, step 1883, Reward 305.120, Average Reward 338.656\n",
      "Episode 500, step 1464, Reward 86.720, Average Reward 335.73824\n",
      "Episode 600, step 1666, Reward 202.360, Average Reward 289.9428\n",
      "Episode 700, step 2163, Reward 445.500, Average Reward 413.0042\n",
      "Episode 800, step 2079, Reward 612.950, Average Reward 597.2966\n",
      "Episode 900, step 2381, Reward 971.210, Average Reward 680.2752\n",
      "Episode 1000, step 2397, Reward 958.460, Average Reward 797.639\n",
      "Episode 1100, step 1986, Reward 641.490, Average Reward 907.8295\n",
      "Episode 1200, step 3364, Reward 1711.150, Average Reward 960.573\n",
      "Episode 1300, step 2960, Reward 1103.800, Average Reward 1177.130\n",
      "Episode 1400, step 3122, Reward 1311.510, Average Reward 1249.923\n",
      "Episode 1500, step 2314, Reward 621.290, Average Reward 1291.0135\n",
      "Episode 1600, step 3418, Reward 1506.320, Average Reward 1207.001\n",
      "Episode 1700, step 2572, Reward 859.920, Average Reward 1356.3826\n",
      "Episode 1800, step 3766, Reward 2157.160, Average Reward 1346.537\n",
      "Episode 1900, step 3001, Reward 1317.700, Average Reward 1474.974\n",
      "Episode 2000, step 2231, Reward 644.440, Average Reward 1388.5268\n",
      "Episode 2100, step 3388, Reward 1589.230, Average Reward 1359.037\n",
      "Episode 2200, step 3375, Reward 2148.530, Average Reward 1282.748\n",
      "Episode 2300, step 1487, Reward 69.930, Average Reward 1489.57965\n",
      "Episode 2400, step 3212, Reward 2165.050, Average Reward 1576.187\n",
      "Episode 2500, step 3620, Reward 2146.090, Average Reward 1779.930\n",
      "Episode 2600, step 2924, Reward 2186.080, Average Reward 2006.612\n",
      "Episode 2700, step 3566, Reward 2160.080, Average Reward 1909.456\n",
      "Episode 2800, step 3074, Reward 2189.080, Average Reward 2052.561\n",
      "Episode 2900, step 3549, Reward 2001.000, Average Reward 2029.072\n",
      "Episode 3000, step 3743, Reward 2089.720, Average Reward 2092.738\n",
      "Episode 3100, step 3465, Reward 2147.570, Average Reward 2022.231\n",
      "Episode 3200, step 3336, Reward 2188.900, Average Reward 2102.234\n",
      "Episode 3300, step 3709, Reward 2173.310, Average Reward 2142.785\n",
      "Episode 3400, step 3041, Reward 2201.000, Average Reward 2099.506\n",
      "Episode 3500, step 3693, Reward 2165.530, Average Reward 2060.766\n",
      "Episode 3600, step 2695, Reward 2214.830, Average Reward 2020.625\n",
      "Episode 3700, step 3128, Reward 2155.840, Average Reward 2070.539\n",
      "Episode 3800, step 3347, Reward 2178.720, Average Reward 2152.902\n",
      "Episode 3806, step 3830, Reward 2177.470, Average Reward 2156.659"
     ]
    }
   ],
   "source": [
    "!python3 train_visual.py"
   ]
  },
  {
   "cell_type": "code",
   "execution_count": null,
   "id": "3b09a330-c4d0-442f-bc77-a6109f827544",
   "metadata": {
    "tags": []
   },
   "outputs": [
    {
     "name": "stdout",
     "output_type": "stream",
     "text": [
      "ALE/AirRaid-v5\n",
      "cuda:0\n",
      "A.L.E: Arcade Learning Environment (version 0.8.1+53f58b7)\n",
      "[Powered by Stella]\n",
      "/usr/local/python3/lib/python3.10/site-packages/gym/utils/passive_env_checker.py:233: DeprecationWarning: `np.bool8` is a deprecated alias for `np.bool_`.  (Deprecated NumPy 1.24)\n",
      "  if not isinstance(terminated, (bool, np.bool8)):\n",
      "Episode 100, step 251, Reward 450.000, Average Reward 554.0001\n",
      "Episode 200, step 925, Reward 950.000, Average Reward 610.75050\n",
      "Episode 300, step 951, Reward 800.000, Average Reward 1106.50000\n",
      "Episode 400, step 1311, Reward 1750.000, Average Reward 1531.500\n",
      "Episode 500, step 2744, Reward 4375.000, Average Reward 2232.000\n",
      "Episode 600, step 1807, Reward 2750.000, Average Reward 2197.500\n",
      "Episode 700, step 239, Reward 250.000, Average Reward 2671.00000\n",
      "Episode 800, step 1093, Reward 1625.000, Average Reward 2485.000\n",
      "Episode 900, step 3204, Reward 4925.000, Average Reward 2628.000\n",
      "Episode 1000, step 612, Reward 650.000, Average Reward 1958.2500\n",
      "Episode 1100, step 3051, Reward 5000.000, Average Reward 2088.500\n",
      "Episode 1200, step 1691, Reward 3175.000, Average Reward 2504.000\n",
      "Episode 1300, step 1689, Reward 2975.000, Average Reward 2480.000\n",
      "Episode 1400, step 408, Reward 650.000, Average Reward 2454.75000\n",
      "Episode 1500, step 1467, Reward 2325.000, Average Reward 2772.500\n",
      "Episode 1600, step 3027, Reward 5650.000, Average Reward 2789.250\n",
      "Episode 1700, step 2955, Reward 5725.000, Average Reward 2387.000\n",
      "Episode 1800, step 367, Reward 400.000, Average Reward 2477.50000\n",
      "Episode 1900, step 2967, Reward 5325.000, Average Reward 2133.000\n",
      "Episode 2000, step 1445, Reward 1875.000, Average Reward 2251.750\n",
      "Episode 2100, step 2845, Reward 4825.000, Average Reward 2084.250\n",
      "Episode 2200, step 685, Reward 1500.000, Average Reward 2589.2500\n",
      "Episode 2300, step 2433, Reward 3825.000, Average Reward 2738.750\n",
      "Episode 2400, step 1412, Reward 2625.000, Average Reward 2521.750\n",
      "Episode 2500, step 1459, Reward 2925.000, Average Reward 2684.250\n",
      "Episode 2600, step 806, Reward 1450.000, Average Reward 2619.7500\n",
      "Episode 2700, step 2258, Reward 4225.000, Average Reward 3001.750\n",
      "Episode 2800, step 395, Reward 375.000, Average Reward 2653.250500\n",
      "Episode 2900, step 724, Reward 1100.000, Average Reward 2742.5000\n",
      "Episode 3000, step 1617, Reward 3025.000, Average Reward 3313.250\n",
      "Episode 3100, step 1468, Reward 2925.000, Average Reward 3656.000\n",
      "Episode 3200, step 3191, Reward 6450.000, Average Reward 2894.000\n",
      "Episode 3300, step 2315, Reward 4350.000, Average Reward 2705.500\n",
      "Episode 3400, step 1046, Reward 2275.000, Average Reward 2815.750\n",
      "Episode 3500, step 2128, Reward 3425.000, Average Reward 3117.750\n",
      "Episode 3600, step 1802, Reward 3700.000, Average Reward 2675.750\n",
      "Episode 3700, step 550, Reward 825.000, Average Reward 2393.50000\n",
      "Episode 3800, step 3877, Reward 8250.000, Average Reward 2441.000\n",
      "Episode 3844, step 3033, Reward 6575.000, Average Reward 2265.250"
     ]
    }
   ],
   "source": [
    "!python3 AirRaid.py"
   ]
  },
  {
   "cell_type": "code",
   "execution_count": 1,
   "id": "f6f2df86-5920-4079-8d50-5a9e9f6365ac",
   "metadata": {},
   "outputs": [
    {
     "name": "stdout",
     "output_type": "stream",
     "text": [
      "Requirement already satisfied: gym in /usr/local/python3/lib/python3.10/site-packages (0.26.2)\n",
      "Requirement already satisfied: numpy>=1.18.0 in /usr/local/python3/lib/python3.10/site-packages (from gym) (1.24.3)\n",
      "Requirement already satisfied: cloudpickle>=1.2.0 in /usr/local/python3/lib/python3.10/site-packages (from gym) (2.2.1)\n",
      "Requirement already satisfied: gym-notices>=0.0.4 in /usr/local/python3/lib/python3.10/site-packages (from gym) (0.0.8)\n",
      "\u001b[33mWARNING: Running pip as the 'root' user can result in broken permissions and conflicting behaviour with the system package manager. It is recommended to use a virtual environment instead: https://pip.pypa.io/warnings/venv\u001b[0m\u001b[33m\n",
      "\u001b[0mRequirement already satisfied: gym[atari] in /usr/local/python3/lib/python3.10/site-packages (0.26.2)\n",
      "Requirement already satisfied: numpy>=1.18.0 in /usr/local/python3/lib/python3.10/site-packages (from gym[atari]) (1.24.3)\n",
      "Requirement already satisfied: cloudpickle>=1.2.0 in /usr/local/python3/lib/python3.10/site-packages (from gym[atari]) (2.2.1)\n",
      "Requirement already satisfied: gym-notices>=0.0.4 in /usr/local/python3/lib/python3.10/site-packages (from gym[atari]) (0.0.8)\n",
      "Requirement already satisfied: ale-py~=0.8.0 in /usr/local/python3/lib/python3.10/site-packages (from gym[atari]) (0.8.1)\n",
      "Requirement already satisfied: importlib-resources in /usr/local/python3/lib/python3.10/site-packages (from ale-py~=0.8.0->gym[atari]) (5.12.0)\n",
      "Requirement already satisfied: typing-extensions in /usr/local/python3/lib/python3.10/site-packages (from ale-py~=0.8.0->gym[atari]) (4.5.0)\n",
      "\u001b[33mWARNING: Running pip as the 'root' user can result in broken permissions and conflicting behaviour with the system package manager. It is recommended to use a virtual environment instead: https://pip.pypa.io/warnings/venv\u001b[0m\u001b[33m\n",
      "\u001b[0mRequirement already satisfied: gym[accept-rom-license] in /usr/local/python3/lib/python3.10/site-packages (0.26.2)\n",
      "Requirement already satisfied: numpy>=1.18.0 in /usr/local/python3/lib/python3.10/site-packages (from gym[accept-rom-license]) (1.24.3)\n",
      "Requirement already satisfied: cloudpickle>=1.2.0 in /usr/local/python3/lib/python3.10/site-packages (from gym[accept-rom-license]) (2.2.1)\n",
      "Requirement already satisfied: gym-notices>=0.0.4 in /usr/local/python3/lib/python3.10/site-packages (from gym[accept-rom-license]) (0.0.8)\n",
      "Requirement already satisfied: autorom[accept-rom-license]~=0.4.2 in /usr/local/python3/lib/python3.10/site-packages (from gym[accept-rom-license]) (0.4.2)\n",
      "Requirement already satisfied: click in /usr/local/python3/lib/python3.10/site-packages (from autorom[accept-rom-license]~=0.4.2->gym[accept-rom-license]) (8.1.3)\n",
      "Requirement already satisfied: requests in /usr/local/python3/lib/python3.10/site-packages (from autorom[accept-rom-license]~=0.4.2->gym[accept-rom-license]) (2.28.2)\n",
      "Requirement already satisfied: tqdm in /usr/local/python3/lib/python3.10/site-packages (from autorom[accept-rom-license]~=0.4.2->gym[accept-rom-license]) (4.65.0)\n",
      "Requirement already satisfied: AutoROM.accept-rom-license in /usr/local/python3/lib/python3.10/site-packages (from autorom[accept-rom-license]~=0.4.2->gym[accept-rom-license]) (0.6.1)\n",
      "Requirement already satisfied: charset-normalizer<4,>=2 in /usr/local/python3/lib/python3.10/site-packages (from requests->autorom[accept-rom-license]~=0.4.2->gym[accept-rom-license]) (3.1.0)\n",
      "Requirement already satisfied: idna<4,>=2.5 in /usr/local/python3/lib/python3.10/site-packages (from requests->autorom[accept-rom-license]~=0.4.2->gym[accept-rom-license]) (3.4)\n",
      "Requirement already satisfied: urllib3<1.27,>=1.21.1 in /usr/local/python3/lib/python3.10/site-packages (from requests->autorom[accept-rom-license]~=0.4.2->gym[accept-rom-license]) (1.26.15)\n",
      "Requirement already satisfied: certifi>=2017.4.17 in /usr/local/python3/lib/python3.10/site-packages (from requests->autorom[accept-rom-license]~=0.4.2->gym[accept-rom-license]) (2022.12.7)\n",
      "\u001b[33mWARNING: Running pip as the 'root' user can result in broken permissions and conflicting behaviour with the system package manager. It is recommended to use a virtual environment instead: https://pip.pypa.io/warnings/venv\u001b[0m\u001b[33m\n",
      "Reading package lists... Done\n",
      "Building dependency tree       \n",
      "Reading state information... Done\n",
      "swig is already the newest version (4.0.1-5build1).\n",
      "0 upgraded, 0 newly installed, 0 to remove and 136 not upgraded.\n",
      "Requirement already satisfied: box2d-py in /usr/local/python3/lib/python3.10/site-packages (2.3.5)\n",
      "\u001b[33mWARNING: Running pip as the 'root' user can result in broken permissions and conflicting behaviour with the system package manager. It is recommended to use a virtual environment instead: https://pip.pypa.io/warnings/venv\u001b[0m\u001b[33m\n",
      "\u001b[0mRequirement already satisfied: gym[box2d] in /usr/local/python3/lib/python3.10/site-packages (0.26.2)\n",
      "Requirement already satisfied: numpy>=1.18.0 in /usr/local/python3/lib/python3.10/site-packages (from gym[box2d]) (1.24.3)\n",
      "Requirement already satisfied: cloudpickle>=1.2.0 in /usr/local/python3/lib/python3.10/site-packages (from gym[box2d]) (2.2.1)\n",
      "Requirement already satisfied: gym-notices>=0.0.4 in /usr/local/python3/lib/python3.10/site-packages (from gym[box2d]) (0.0.8)\n",
      "Requirement already satisfied: box2d-py==2.3.5 in /usr/local/python3/lib/python3.10/site-packages (from gym[box2d]) (2.3.5)\n",
      "Requirement already satisfied: pygame==2.1.0 in /usr/local/python3/lib/python3.10/site-packages (from gym[box2d]) (2.1.0)\n",
      "Requirement already satisfied: swig==4.* in /usr/local/python3/lib/python3.10/site-packages (from gym[box2d]) (4.1.1)\n",
      "\u001b[33mWARNING: Running pip as the 'root' user can result in broken permissions and conflicting behaviour with the system package manager. It is recommended to use a virtual environment instead: https://pip.pypa.io/warnings/venv\u001b[0m\u001b[33m\n",
      "\u001b[0m"
     ]
    }
   ],
   "source": [
    "!pip install gym\n",
    "!pip install gym[atari]\n",
    "!pip install gym[accept-rom-license]\n",
    "!apt-get install -y swig\n",
    "!pip install box2d-py\n",
    "!pip install gym[box2d]"
   ]
  }
 ],
 "metadata": {
  "kernelspec": {
   "display_name": "Python 3 (ipykernel)",
   "language": "python",
   "name": "python3"
  },
  "language_info": {
   "codemirror_mode": {
    "name": "ipython",
    "version": 3
   },
   "file_extension": ".py",
   "mimetype": "text/x-python",
   "name": "python",
   "nbconvert_exporter": "python",
   "pygments_lexer": "ipython3",
   "version": "3.10.6"
  }
 },
 "nbformat": 4,
 "nbformat_minor": 5
}
